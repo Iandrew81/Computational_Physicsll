{
 "cells": [
  {
   "cell_type": "markdown",
   "id": "bfece5fe",
   "metadata": {},
   "source": [
    "# Homework 1 - Computational Physics 2\n",
    "\n",
    "- Submission deadline: **Friday 27th January 2023 (by the end of the day).**\n",
    "\n",
    "\n",
    "- When you finish the assignment, please send the **.ipynb file** via email to wbanda@yachaytech.edu.ec\n",
    "\n",
    "\n",
    "- You may work on this homework individually or in pairs. Submitted assignments should have maximum 2 authors.\n",
    "\n",
    "\n",
    "- You can call your notebook with your surname/s, e.g. hw1_names.ipynb, and also include your name/s in the notebook.\n",
    "\n",
    "\n",
    "- Within a single python notebook, add the following:"
   ]
  },
  {
   "cell_type": "code",
   "execution_count": 2,
   "id": "e9baa6bd",
   "metadata": {},
   "outputs": [],
   "source": [
    "import numpy as np\n",
    "import matplotlib.pyplot as plt\n",
    "import glob\n",
    "from scipy.integrate import solve_ivp\n",
    "from scipy.optimize import fsolve\n",
    "from PIL import Image\n",
    "import random"
   ]
  },
  {
   "cell_type": "markdown",
   "id": "d2629c36",
   "metadata": {},
   "source": [
    "## Problem 1 (10 points): Quantum Harmonic Oscillator\n",
    "\n",
    "The Schrödinger equation for the quantum harmonic oscillator is:\n",
    "\n",
    "$$-\\frac{\\hbar^2}{2m}\\frac{d^2\\psi}{dx^2}+\\frac{1}{2}m\\omega^2x^2\\psi=E\\psi$$\n",
    "\n",
    "It can be rewritten, in terms of a new variable, $\\xi\\equiv\\frac{2E}{\\hbar\\omega}$, as follows:\n",
    "\n",
    "$$\\frac{d^2\\psi}{d\\xi^2}=\\left(\\xi^2 -K\\right)\\psi$$\n",
    "\n",
    "where $K\\equiv\\frac{2E}{\\hbar\\omega}$ is the energy in units of $\\frac{1}{2}\\hbar\\omega$.\n"
   ]
  },
  {
   "cell_type": "markdown",
   "id": "bbbdd057",
   "metadata": {},
   "source": [
    "(a) Find the **ground state energy** of the harmonic oscillator, to five significant digits, by using **the shooting method**. That is, solve the above equation numerically, varying $K$ until you get a wave function that goes to zero at large $\\xi$. The appropriate boundary conditions for the ground state (and any even state) are $\\psi(0) = 1$, $\\psi'(0) = 0$."
   ]
  },
  {
   "cell_type": "markdown",
   "id": "4be48fe0",
   "metadata": {},
   "source": [
    "First we are going to convert the second order ODE into a 1st order ODE\n",
    "\n",
    "We are going to consider the following change of variables:\n",
    "\n",
    "$$\\psi'(\\xi) = v(\\xi)$$\n",
    "\n",
    "which gives us\n",
    "\n",
    "$$v'(\\xi) = (\\xi^{2} - K) \\psi(\\xi)$$\n",
    "\n",
    "resulting in the following matrix (system of ODEs) \n",
    "\n",
    "$$\\frac{dS(\\xi)}{d\\xi} = \\left[\\begin{array}{cc}\n",
    "0 & 1 \\\\\n",
    "\\xi^{2} - K & 0\n",
    "\\end{array}\\right]S(\\xi)$$\n",
    "\n",
    "where $S(\\xi) = \\left[\\begin{array}{c} \\psi(\\xi) \\\\ v(\\xi) \\end{array}\\right]$\n",
    "\n",
    "\n",
    "\n",
    "\n"
   ]
  },
  {
   "cell_type": "code",
   "execution_count": null,
   "id": "f5576d80",
   "metadata": {},
   "outputs": [],
   "source": [
    "# 1st order ODE:\n",
    "\n",
    "F = lambda xi, s: np.dot(np.array([[0,1],[xi**2 - K, 0 ]]), s)"
   ]
  },
  {
   "cell_type": "code",
   "execution_count": null,
   "id": "5728adfa",
   "metadata": {},
   "outputs": [],
   "source": [
    "# Axis:\n",
    "\n",
    "h_1 = 0.01\n",
    "x_1 = np.arange(0, 10 + h_1, h_1)\n",
    "\n",
    "# Initial conditions\n",
    "\n",
    "psi_00 = 1\n",
    "Dpsi_00 = 0\n",
    "\n",
    "# Assumption for K\n",
    "\n",
    "K = 0.99995\n",
    "\n",
    "#Shooting method\n",
    "\n",
    "new_sol = solve_ivp(F, [0, 10], [psi_00, Dpsi_00,], t_eval = x_1)"
   ]
  },
  {
   "cell_type": "code",
   "execution_count": null,
   "id": "e5974ec0",
   "metadata": {},
   "outputs": [],
   "source": [
    "# Root finding function\n",
    "#def objective(v_00):\n",
    "#    sol = solve_ivp(F, [0, 10], [psi_00, v_00], t_eval = x_1)\n",
    "#    f = sol.y[0]\n",
    "#    return f[-1] - Dpsi_00\n",
    "# Optimisation:\n",
    "#new_v00 = fsolve(objective, 1)\n"
   ]
  },
  {
   "cell_type": "code",
   "execution_count": null,
   "id": "30e27a82",
   "metadata": {},
   "outputs": [],
   "source": [
    "# Plotting\n",
    "\n",
    "plt.figure(figsize = (10, 8))\n",
    "plt.plot(new_sol.t, new_sol.y[0], \"b\", linestyle=\"--\")\n",
    "plt.xlabel(r'$\\xi$', size= 20)\n",
    "plt.ylabel(r'$\\psi(\\xi)$', size= 20)\n",
    "plt.ylim(-5,5)\n",
    "plt.title(f'The value for Psi')\n",
    "\n",
    "plt.legend()\n",
    "plt.show()"
   ]
  },
  {
   "cell_type": "markdown",
   "id": "3490a96a",
   "metadata": {},
   "source": [
    "(b) Make a few illustrative panels showing plots of the wave function for different values of $K$ as it converges to the solution. What does the tail of the wave function does when the values are slightly above or below the correct solution?"
   ]
  },
  {
   "cell_type": "code",
   "execution_count": null,
   "id": "91f68ae1",
   "metadata": {},
   "outputs": [],
   "source": []
  },
  {
   "cell_type": "code",
   "execution_count": null,
   "id": "5ca7398b",
   "metadata": {},
   "outputs": [],
   "source": []
  },
  {
   "cell_type": "markdown",
   "id": "a3c561db",
   "metadata": {},
   "source": [
    "(c) Find the **first three excited state energies** (to five significant digits) for the harmonic oscillator, using **the shooting method**. For the first (and third) excited state you will need to set $\\psi(0) = 0$, $\\psi'(0) = 1$.)"
   ]
  },
  {
   "cell_type": "code",
   "execution_count": null,
   "id": "56211387",
   "metadata": {},
   "outputs": [],
   "source": []
  },
  {
   "cell_type": "code",
   "execution_count": null,
   "id": "6a5604c5",
   "metadata": {},
   "outputs": [],
   "source": []
  },
  {
   "cell_type": "markdown",
   "id": "08e00161",
   "metadata": {},
   "source": [
    "(d) Make a few illustrative panels showing plots of the wave functions for different values of $K$ as they converge to their respective solutions."
   ]
  },
  {
   "cell_type": "code",
   "execution_count": null,
   "id": "366a7d46",
   "metadata": {},
   "outputs": [],
   "source": []
  },
  {
   "cell_type": "code",
   "execution_count": null,
   "id": "47e36d48",
   "metadata": {},
   "outputs": [],
   "source": []
  },
  {
   "cell_type": "markdown",
   "id": "cb747078",
   "metadata": {},
   "source": [
    "(e) Make a single plot showing the **harmonic potential** joinly with the **energy ladder** of the quantum harmonic oscillator (include the ground state plus the first three excited states that you calculated above, each with their **respective wave functions**). Consider the particle to be an electron and choose appropriate units for any physical parameters you may need."
   ]
  },
  {
   "cell_type": "code",
   "execution_count": null,
   "id": "73f2767a",
   "metadata": {},
   "outputs": [],
   "source": []
  },
  {
   "cell_type": "code",
   "execution_count": null,
   "id": "9a94c81e",
   "metadata": {},
   "outputs": [],
   "source": []
  },
  {
   "cell_type": "markdown",
   "id": "9d821a47",
   "metadata": {},
   "source": [
    "## Problem 2 (10 points): Thermodynamics and Heat Conduction\n",
    "\n",
    "Use appropriate numerical algorithms to study how the temperature profile in a heated metal wire evolves in time, under different initial and boundary conditions. For this, you need to solve the 1D heat equation:\n",
    "\n",
    "$$\\frac{\\partial T}{\\partial t}=\\alpha\\frac{\\partial^2 T}{\\partial x^2}$$\n",
    "\n",
    "where $T=T(x, t)$ describes the temperature of the metal, $x$ is position, $t$ is time, and $\\alpha$ is the thermal diffusivity of the metal. We will consider two metals as I explain below.\n",
    "\n",
    "Assume that the metal wire has a length of $20\\,\\rm cm$, and choose the wire midpoint as the origin for the problem.\n",
    "\n",
    "The initial temperature profile in degrees Celsius is given by the following function:\n",
    "\n",
    "$$T(x, 0)= 175 - 50\\cos\\left(\\frac{\\pi x}{5}\\right) - x^2$$\n",
    "\n",
    "where $x$ is in units of $\\rm cm$. \n",
    "\n"
   ]
  },
  {
   "cell_type": "markdown",
   "id": "e577453f",
   "metadata": {},
   "source": [
    "(a) Imagine we keep the temperatures at the edges of the metal wire fixed at a temperature of $25\\,\\rm C$. Construct a Crank-Nicolson algorithm to simulate the evolution of the temperature profile and find the time in seconds at which thermal equilibrium is reached in two metal wires (one made of Copper with $\\alpha=111\\,\\rm \\frac{mm^2}{s}$ and one made of Molybdenum with $\\alpha=54.3\\,\\rm \\frac{mm^2}{s}$ )."
   ]
  },
  {
   "cell_type": "code",
   "execution_count": 3,
   "id": "9c294943",
   "metadata": {},
   "outputs": [],
   "source": [
    "# Steps:\n",
    "\n",
    "h = 0.05 # for space\n",
    "k = 1 # for time\n",
    "\n",
    "# Time and Space Vectors\n",
    "x = np.arange(-10 , 10 + h, h)\n",
    "\n",
    "t = np.arange(0, 400 + k, k)\n",
    "\n",
    "# Boundary conditions\n",
    "\n",
    "bcs = [25, 25] # Fix temperatures at the edges (T=25)\n",
    "\n",
    "# Initial conditions\n",
    "\n",
    "ics = 175 - 50*np.cos(np.pi*x/5) - x**2"
   ]
  },
  {
   "cell_type": "code",
   "execution_count": 4,
   "id": "a728395c",
   "metadata": {},
   "outputs": [],
   "source": [
    "# Matrix for temperatures\n",
    "\n",
    "n = len(x)\n",
    "m = len(t)\n",
    "\n",
    "T1 = np.zeros((n,m)) #Copper\n",
    "T2 = np.zeros((n,m)) #Molybdenum\n",
    "\n",
    "# Add the ics\n",
    "\n",
    "T1[:, 0] = ics\n",
    "T2[:, 0] = ics\n",
    "\n",
    "# Add the bc\n",
    "\n",
    "T1[0, :] = bcs[0]\n",
    "T1[-1, :] = bcs[1]\n",
    "\n",
    "T2[0, :] = bcs[0]\n",
    "T2[-1, :] = bcs[1]\n",
    "\n",
    "# The values for the thermal diffusivity constant are in mm^2/s\n",
    "# We are going to convert those values to cm^2/s by dividing by 100\n",
    "\n",
    "alphacu = 1.11\n",
    "alphamb = 0.543\n",
    "\n",
    "r_factor1 = alphacu * k / h**2\n",
    "\n",
    "r_factor2 = alphamb * k / h**2"
   ]
  },
  {
   "cell_type": "markdown",
   "id": "ca5dda88",
   "metadata": {},
   "source": [
    "### Copper"
   ]
  },
  {
   "cell_type": "code",
   "execution_count": 20,
   "id": "7830f0f2",
   "metadata": {},
   "outputs": [],
   "source": [
    "# First matrix\n",
    "\n",
    "D1_matrix_0 = np.diag([2 + 2*r_factor1]*(n - 2), 0)\n",
    "\n",
    "D1_matrix_n = np.diag([-r_factor1]*(n - 3), -1)\n",
    "\n",
    "D1_matrix_p = np.diag([-r_factor1]*(n - 3), +1)\n",
    "\n",
    "D1_matrix   = D1_matrix_0 + D1_matrix_n + D1_matrix_p\n",
    "\n",
    "# Second matrix\n",
    "\n",
    "D2_matrix_0 = np.diag([2 - 2*r_factor1]*(n - 2), 0)\n",
    "\n",
    "D2_matrix_n = np.diag([r_factor1]*(n - 3), -1)\n",
    "\n",
    "D2_matrix_p = np.diag([r_factor1]*(n - 3), +1)\n",
    "\n",
    "D2_matrix   = D2_matrix_0 + D2_matrix_n + D2_matrix_p"
   ]
  },
  {
   "cell_type": "code",
   "execution_count": 21,
   "id": "b19bf0c2",
   "metadata": {},
   "outputs": [
    {
     "name": "stdout",
     "output_type": "stream",
     "text": [
      "The temperature profile reaches thermal equilibrium at t=163 seconds\n"
     ]
    }
   ],
   "source": [
    "for j in range(0, m-1):\n",
    "    \n",
    "    # Add initial conditions to initial b vector\n",
    "    b = T1[1:-1, j].copy()\n",
    "\n",
    "    # Evaluate RHS\n",
    "    b = np.dot(D2_matrix, b)\n",
    "    # b = D2_matrix@b (another option)\n",
    "    \n",
    "    # Append missing values\n",
    "    \n",
    "    b[0]  = b[0]  + r_factor1*(T1[0, j+1] + T1[0, j])\n",
    "    b[-1] = b[-1] + r_factor1*(T1[-1, j+1] + T1[-1, j])\n",
    "    \n",
    "    \n",
    "    # Compute the soution vector:\n",
    "    sln_b = np.linalg.solve(D1_matrix, b)\n",
    "    \n",
    "    # Update T matrix\n",
    "    T1[1:-1, j+1] = sln_b\n",
    "    \n",
    "    # Since we want to get thermal equilibrium we stablish a threshold \n",
    "    # for the slope between the first value and the maximum value of \n",
    "    # temperature profile\n",
    "    # We stablish a treshold of m = 0.01  \n",
    "    \n",
    "    if ((T1[m//2,j]-T1[1,j])/(m//2-1))<0.01:\n",
    "        break\n",
    "    \n",
    "nmax1 = j\n",
    "    \n",
    "print(\"The temperature profile reaches thermal equilibrium at t=\"+str(j)+\" seconds\")"
   ]
  },
  {
   "cell_type": "code",
   "execution_count": 22,
   "id": "9d01ce81",
   "metadata": {},
   "outputs": [
    {
     "data": {
      "image/png": "[encoded data removed]",
      "text/plain": [
       "<Figure size 720x432 with 1 Axes>"
      ]
     },
     "metadata": {
      "needs_background": "light"
     },
     "output_type": "display_data"
    }
   ],
   "source": [
    "# Plotting\n",
    "R = np.linspace(1, 0, m)\n",
    "B = np.linspace(0, 1, m)\n",
    "G = 0\n",
    "\n",
    "plt.figure(figsize=(10,6))\n",
    "\n",
    "for j in range(0, (nmax+1)//2, 9):\n",
    "    plt.plot(x, T1[:, 2*j] , color = [R[j], G, B[j]], label=\"t=\"+str(2*j)+\"s\")\n",
    "plt.legend(fontsize=10)\n",
    "\n",
    "ax = plt.gca()\n",
    "ax.tick_params(axis = 'both', which = 'major', labelsize = 14)\n",
    "ax.tick_params(axis = 'both', which = 'minor', labelsize = 14)\n",
    "\n",
    "plt.show()\n"
   ]
  },
  {
   "cell_type": "markdown",
   "id": "09c771e9",
   "metadata": {},
   "source": [
    "### Molybdenum "
   ]
  },
  {
   "cell_type": "code",
   "execution_count": 23,
   "id": "50b0d0db",
   "metadata": {},
   "outputs": [],
   "source": [
    "#First matrix\n",
    "\n",
    "D1_matrix_0 = np.diag([2 + 2*r_factor2]*(n - 2), 0)\n",
    "\n",
    "D1_matrix_n = np.diag([-r_factor2]*(n - 3), -1)\n",
    "\n",
    "D1_matrix_p = np.diag([-r_factor2]*(n - 3), +1)\n",
    "\n",
    "D1_matrix   = D1_matrix_0 + D1_matrix_n + D1_matrix_p\n",
    "\n",
    "#Second matrix\n",
    "\n",
    "D2_matrix_0 = np.diag([2 - 2*r_factor2]*(n - 2), 0)\n",
    "\n",
    "D2_matrix_n = np.diag([r_factor2]*(n - 3), -1)\n",
    "\n",
    "D2_matrix_p = np.diag([r_factor2]*(n - 3), +1)\n",
    "\n",
    "D2_matrix   = D2_matrix_0 + D2_matrix_n + D2_matrix_p"
   ]
  },
  {
   "cell_type": "code",
   "execution_count": 24,
   "id": "bc6018d4",
   "metadata": {},
   "outputs": [],
   "source": [
    "for j in range(0, m-1):\n",
    "    \n",
    "    # Add initial conditions to initial b vector\n",
    "    b = T2[1:-1, j].copy()\n",
    "    #print(b.shape)\n",
    "    #print(b)\n",
    "    \n",
    "    # Evaluate RHS\n",
    "    b = np.dot(D2_matrix, b)\n",
    "    # b = D2_matrix@b (another option)\n",
    "    \n",
    "    # Append missing values\n",
    "    \n",
    "    b[0]  = b[0]  + r_factor2*(T2[0, j+1] + T2[0, j])\n",
    "    b[-1] = b[-1] + r_factor2*(T2[-1, j+1] + T2[-1, j])\n",
    "    \n",
    "    # Compute the soution vector:\n",
    "    sln_b = np.linalg.solve(D1_matrix, b)\n",
    "    \n",
    "    # Update T matrix\n",
    "    T2[1:-1, j+1] = sln_b\n",
    "    \n",
    "    # Since we want to get thermal equilibrium we stablish a threshold \n",
    "    # for the slope between the first value and the maximum value of \n",
    "    # temperature profile\n",
    "    # We stablish a treshold of m = 0.01  \n",
    "    \n",
    "    if ((T2[m//2,j]-T2[1,j])/(m//2-1))<0.01:\n",
    "        break\n",
    "nmax2 = j"
   ]
  },
  {
   "cell_type": "code",
   "execution_count": 25,
   "id": "a08c3f04",
   "metadata": {
    "scrolled": true
   },
   "outputs": [
    {
     "data": {
      "image/png": "[encoded data removed]",
      "text/plain": [
       "<Figure size 720x432 with 1 Axes>"
      ]
     },
     "metadata": {
      "needs_background": "light"
     },
     "output_type": "display_data"
    }
   ],
   "source": [
    "# Plotting\n",
    "R = np.linspace(1, 0, m)\n",
    "B = np.linspace(0, 1, m)\n",
    "G = 0\n",
    "\n",
    "plt.figure(figsize=(10,6))\n",
    "\n",
    "\n",
    "for j in range(0, (nmax2+1)//2, 10):\n",
    "    plt.plot(x, T2[:, 2*j] , color = [R[j], G, B[j]], label=\"t=\"+str(2*j)+\"s\")\n",
    "    \n",
    "plt.legend(fontsize=10)\n",
    "plt.show()\n"
   ]
  },
  {
   "cell_type": "markdown",
   "id": "f4c68f92",
   "metadata": {},
   "source": [
    "(b) Can we use explicit or FFT methods to solve the problem described in literal (a)? Explain."
   ]
  },
  {
   "cell_type": "code",
   "execution_count": null,
   "id": "9fc343f3",
   "metadata": {},
   "outputs": [],
   "source": []
  },
  {
   "cell_type": "code",
   "execution_count": null,
   "id": "7e19822b",
   "metadata": {},
   "outputs": [],
   "source": []
  },
  {
   "cell_type": "code",
   "execution_count": null,
   "id": "52cc3c8b",
   "metadata": {},
   "outputs": [],
   "source": []
  },
  {
   "cell_type": "markdown",
   "id": "7651b747",
   "metadata": {},
   "source": [
    "(c) Make a labeled animation showing six panels (with 2 columns and three rows): the top two panels should show the time evolution of the 1D temperature profile of each metal wire, the medium two panels how the temperature surface is built up in time, and the bottom two panels the surface projection onto the $x$-$t$ plane."
   ]
  },
  {
   "cell_type": "code",
   "execution_count": 42,
   "id": "faf825e7",
   "metadata": {
    "scrolled": true
   },
   "outputs": [
    {
     "name": "stderr",
     "output_type": "stream",
     "text": [
      "/home/iandrew/anaconda3/envs/py37/lib/python3.7/site-packages/ipykernel_launcher.py:55: MatplotlibDeprecationWarning: Starting from Matplotlib 3.6, colorbar() will steal space from the mappable's axes, rather than from the current axes, to place the colorbar.  To silence this warning, explicitly pass the 'ax' argument to colorbar().\n"
     ]
    }
   ],
   "source": [
    "x_grid, t_grid = np.meshgrid(x, t)\n",
    "\n",
    "# Colors\n",
    "R = np.linspace(1, 0, m)\n",
    "B = np.linspace(0, 1, m)\n",
    "G = 0\n",
    "    \n",
    "for j in range(0, m//2 +1, 4):\n",
    "    \n",
    "    fig, ((ax1, ax2), (ax3, ax4),(ax5, ax6)) = plt.subplots(3, 2, figsize=(30,18))\n",
    "    \n",
    "    if nmax1>2*j:\n",
    "        it=j\n",
    "    elif nmax1<2*j:\n",
    "        it=nmax1//2\n",
    "    \n",
    "    ax1.plot(x, T1[:, 2*it -1] , color = [R[j], G, B[j]])\n",
    "    \n",
    "    ax1.set_xlabel('x [cm]', size = 16)\n",
    "    ax1.set_ylabel('T [°C]', size = 16)\n",
    "    ax1.tick_params(axis = 'both', which = 'major', labelsize = 16)\n",
    "    \n",
    "    if nmax2>2*j:\n",
    "        it=j\n",
    "    elif nmax2<2*j:\n",
    "        it=nmax2//2\n",
    "\n",
    "    ax2.plot(x, T2[:, 2*it -1] , color = [R[j], G, B[j]])\n",
    "    \n",
    "    ax2.set_xlabel('x [cm]', size = 16)\n",
    "    ax2.set_ylabel('T [°C]', size = 16)\n",
    "    ax2.tick_params(axis = 'both', which = 'major', labelsize = 16)\n",
    "    \n",
    "    ax1.set_ylim([0, 210])\n",
    "    \n",
    "    ax2.set_ylim([0, 210])\n",
    "    \n",
    "    ax3.plot(t, T1[2*j, :] , color = [R[j], G, B[j]])\n",
    "\n",
    "    ax3.set_xlabel('t [s]', size = 16)\n",
    "    ax3.set_ylabel('T [°C]', size = 16)\n",
    "    ax3.tick_params(axis = 'both', which = 'major', labelsize = 16)\n",
    "    \n",
    "    ax4.plot(t, T2[2*j, :] , color = [R[j], G, B[j]])\n",
    "    \n",
    "    ax4.set_xlabel('t [s]', size = 16)\n",
    "    ax4.set_ylabel('T [°C]', size = 16)\n",
    "    ax4.tick_params(axis = 'both', which = 'major', labelsize = 16)\n",
    "    \n",
    "    ax3.set_ylim([0, 210])\n",
    "    \n",
    "    ax4.set_ylim([0, 210])\n",
    "    Z1 = ax5.pcolor(x_grid, t_grid, T1.T, cmap = 'bwr', vmin=0, vmax=210)\n",
    "    \n",
    "    plt.colorbar(Z1)\n",
    "\n",
    "    ax5.set_xlabel('x [cm]', size = 16)\n",
    "    ax5.set_ylabel('t [s]', size = 16)\n",
    "    ax5.tick_params(axis = 'both', which = 'major', labelsize = 16)\n",
    "\n",
    "    ax6.pcolor(x_grid, t_grid, T2.T, cmap = 'bwr', vmin=0, vmax=210)\n",
    "    \n",
    "    ax6.set_xlabel('x [cm]', size = 16)\n",
    "    ax6.set_ylabel('t [s]', size = 16)\n",
    "    ax6.tick_params(axis = 'both', which = 'major', labelsize = 16)\n",
    "    \n",
    "    plt.savefig(\"./wave1D{:03d}.png\".format(j))\n",
    "    \n",
    "    plt.close()\n",
    "    "
   ]
  },
  {
   "cell_type": "code",
   "execution_count": 44,
   "id": "78e5445e",
   "metadata": {},
   "outputs": [],
   "source": [
    "images_in = \"./wave****.png\"\n",
    "\n",
    "gif_image_out = \"./animation_wave.gif\"\n",
    "\n",
    "imgs = (Image.open(f) for f in sorted(glob.glob(images_in)))\n",
    "\n",
    "img = next(imgs)\n",
    "\n",
    "img.save(fp = gif_image_out, format='GIF', append_images=imgs, save_all=True, duration=100, loop=0)"
   ]
  },
  {
   "cell_type": "markdown",
   "id": "96fdc47f",
   "metadata": {},
   "source": [
    "(d) Re-study heat diffusion only in the Copper wire, but this time add some noise $f(x)$ with amplitude $\\beta$ to the initial condition:\n",
    "\n",
    "$$T(x, 0)= 175 - 50\\cos\\left(\\frac{\\pi x}{5}\\right) - x^2 + \\beta\\,f(x)\\,g(x)$$\n",
    "\n",
    "Note that you need to find an appropriate apodization function $g(x)$ so that the initial boundary conditions remain fixed at $25\\,\\rm C$. Similarly, you should choice an amplitude for the noise function to be less than a thousandth of the peak temperature value."
   ]
  },
  {
   "cell_type": "code",
   "execution_count": null,
   "id": "6bdc9a0e",
   "metadata": {},
   "outputs": [],
   "source": [
    "# Steps:\n",
    "\n",
    "h = 0.05 # for space\n",
    "k = 1 # for time\n",
    "\n",
    "# Time and Space Vectors\n",
    "x = np.arange(-10 + h, 10 + h, h)\n",
    "\n",
    "t = np.arange(0, 75+ k, k)\n",
    "\n",
    "# Matrix for temperatures\n",
    "\n",
    "n = len(x)\n",
    "m = len(t)\n",
    "\n",
    "T1 = np.zeros((n,m)) #Copper\n",
    "\n",
    "# Boundary conditions\n",
    "\n",
    "bcs = [25, 25] # Fix temperatures at the edges (T=25)"
   ]
  },
  {
   "cell_type": "code",
   "execution_count": null,
   "id": "e5cbcca7",
   "metadata": {},
   "outputs": [],
   "source": [
    "# New initial conditions\n",
    "\n",
    "ics = 175 - 50*np.cos(np.pi*x/5) - x**2 \n",
    "\n",
    "# Adding noise with an amplitude of 0.2(Thousand of the peak temperature)\n",
    "\n",
    "noise = [random.uniform(-.2, .2) for i in range(len(ics))]\n",
    "\n",
    "# We are using the Hanning apodization function to mantain the edges at 25degrees\n",
    "\n",
    "hann_window = np.hanning(len(ics))\n",
    "\n",
    "ics = ics + hann_window*noise\n",
    "\n",
    "# Add the ics\n",
    "\n",
    "T1[:, 0] = ics\n",
    "\n",
    "# Add the bc\n",
    "\n",
    "T1[0, :] = bcs[0]\n",
    "T1[-1, :] = bcs[1]\n",
    "\n",
    "# The values for the thermal diffusivity constant are in mm^2/s\n",
    "# We are going to convert those values to cm^2/s by dividing by 100\n",
    "\n",
    "alphacu = 1.11\n",
    "\n",
    "r_factor1 = alphacu * k / h**2"
   ]
  },
  {
   "cell_type": "code",
   "execution_count": null,
   "id": "bb8f731e",
   "metadata": {},
   "outputs": [],
   "source": [
    "# First matrix\n",
    "\n",
    "D1_matrix_0 = np.diag([2 + 2*r_factor1]*(n - 2), 0)\n",
    "\n",
    "D1_matrix_n = np.diag([-r_factor1]*(n - 3), -1)\n",
    "\n",
    "D1_matrix_p = np.diag([-r_factor1]*(n - 3), +1)\n",
    "\n",
    "D1_matrix   = D1_matrix_0 + D1_matrix_n + D1_matrix_p\n",
    "\n",
    "# Second matrix\n",
    "\n",
    "D2_matrix_0 = np.diag([2 - 2*r_factor1]*(n - 2), 0)\n",
    "\n",
    "D2_matrix_n = np.diag([r_factor1]*(n - 3), -1)\n",
    "\n",
    "D2_matrix_p = np.diag([r_factor1]*(n - 3), +1)\n",
    "\n",
    "D2_matrix   = D2_matrix_0 + D2_matrix_n + D2_matrix_p"
   ]
  },
  {
   "cell_type": "code",
   "execution_count": null,
   "id": "553ce617",
   "metadata": {},
   "outputs": [],
   "source": [
    "for j in range(0, m-1):\n",
    "    \n",
    "    # Add initial conditions to initial b vector\n",
    "    b = T1[1:-1, j].copy()\n",
    "\n",
    "    # Evaluate RHS\n",
    "    b = np.dot(D2_matrix, b)\n",
    "    # b = D2_matrix@b (another option)\n",
    "    \n",
    "    # Append missing values\n",
    "    \n",
    "    b[0]  = b[0]  + r_factor1*(T1[0, j+1] + T1[0, j])\n",
    "    b[-1] = b[-1] + r_factor1*(T1[-1, j+1] + T1[-1, j])\n",
    "    \n",
    "    \n",
    "    # Compute the soution vector:\n",
    "    sln_b = np.linalg.solve(D1_matrix, b)\n",
    "    \n",
    "    # Update T matrix\n",
    "    T1[1:-1, j+1] = sln_b"
   ]
  },
  {
   "cell_type": "code",
   "execution_count": null,
   "id": "b7fa0ab0",
   "metadata": {},
   "outputs": [],
   "source": [
    "# Plotting\n",
    "R = np.linspace(1, 0, m)\n",
    "B = np.linspace(0, 1, m)\n",
    "G = 0\n",
    "\n",
    "plt.figure(figsize=(10,6))\n",
    "\n",
    "for j in range(0, (m+1)//2, 8):\n",
    "    plt.plot(x, T1[:, 2*j] , color = [R[j], G, B[j]], label=\"t=\"+str(2*j)+\"s\")\n",
    "plt.legend(fontsize=10)\n",
    "plt.show()\n"
   ]
  },
  {
   "cell_type": "code",
   "execution_count": null,
   "id": "1e2d49e1",
   "metadata": {},
   "outputs": [],
   "source": [
    "x_grid, t_grid = np.meshgrid(x, t)\n",
    "\n",
    "fig = plt.figure(figsize=(12,8))\n",
    "\n",
    "ax = plt.axes(projection='3d')\n",
    "ax.plot_surface(x_grid, t_grid, T1.T, cmap='bwr') # Creates 'n=10' contours at different Z to make the surface\n",
    "\n",
    "ax.set_xlabel('x')  # Customised labels for axes\n",
    "ax.set_ylabel('t')\n",
    "ax.set_zlabel('T')\n",
    "\n",
    "plt.show()"
   ]
  },
  {
   "cell_type": "markdown",
   "id": "4c92c3b9",
   "metadata": {},
   "source": [
    "(e) Re-study heat diffusion only in the Copper wire for the original $T(x, 0)$, but this time assume that the boundaries cannot be kept constant (because of e.g. a faulty cooling system). Instead they also evolve in time according to the following functions:\n",
    "\n",
    "$T(-10\\,{\\rm cm}, t) = 25 + t$\n",
    "\n",
    "$T(+10\\,{\\rm cm}, t) = 25 + 0.5\\,t$\n",
    "\n",
    "where $T(x, t)$ is in degrees Celsius, and $t$ in seconds. Run the simulation until the temperature profile shows a linear trend."
   ]
  },
  {
   "cell_type": "code",
   "execution_count": null,
   "id": "5052f3c5",
   "metadata": {},
   "outputs": [],
   "source": [
    "# Steps:\n",
    "\n",
    "h = 0.05 # for space\n",
    "k = 1 # for time\n",
    "\n",
    "# Time and Space Vectors\n",
    "x = np.arange(-10 + h, 10 + h, h)\n",
    "\n",
    "t = np.arange(0, 75+ k, k)\n",
    "\n",
    "# Matrix for temperatures\n",
    "\n",
    "n = len(x)\n",
    "m = len(t)\n",
    "\n",
    "T1 = np.zeros((n,m)) #Copper"
   ]
  },
  {
   "cell_type": "code",
   "execution_count": null,
   "id": "e473ffc2",
   "metadata": {},
   "outputs": [],
   "source": [
    "# Initial conditions\n",
    "\n",
    "ics = 175 - 50*np.cos(np.pi*x/5) - x**2\n",
    "\n",
    "# Add the ics\n",
    "\n",
    "T1[:, 0] = ics\n",
    "\n",
    "\n",
    "# Adding the bcs to each column of the Temperature profile following the given equation:\n",
    "\n",
    "for i in range(m):\n",
    "    T1[0, i] = 25 + t[i]\n",
    "    \n",
    "    T1[-1, i] = 25 + 0.5*t[i]\n",
    "    \n",
    "\n",
    "# The values for the thermal diffusivity constant are in mm^2/s\n",
    "# We are going to convert those values to cm^2/s by dividing by 100\n",
    "\n",
    "alphacu = 1.11\n",
    "\n",
    "r_factor1 = alphacu * k / h**2"
   ]
  },
  {
   "cell_type": "code",
   "execution_count": null,
   "id": "73d66faf",
   "metadata": {},
   "outputs": [],
   "source": [
    "# First matrix\n",
    "\n",
    "D1_matrix_0 = np.diag([2 + 2*r_factor1]*(n - 2), 0)\n",
    "\n",
    "D1_matrix_n = np.diag([-r_factor1]*(n - 3), -1)\n",
    "\n",
    "D1_matrix_p = np.diag([-r_factor1]*(n - 3), +1)\n",
    "\n",
    "D1_matrix   = D1_matrix_0 + D1_matrix_n + D1_matrix_p\n",
    "\n",
    "# Second matrix\n",
    "\n",
    "D2_matrix_0 = np.diag([2 - 2*r_factor1]*(n - 2), 0)\n",
    "\n",
    "D2_matrix_n = np.diag([r_factor1]*(n - 3), -1)\n",
    "\n",
    "D2_matrix_p = np.diag([r_factor1]*(n - 3), +1)\n",
    "\n",
    "D2_matrix   = D2_matrix_0 + D2_matrix_n + D2_matrix_p"
   ]
  },
  {
   "cell_type": "code",
   "execution_count": null,
   "id": "a04861ff",
   "metadata": {},
   "outputs": [],
   "source": [
    "for j in range(0, m-1):\n",
    "    \n",
    "    # Add initial conditions to initial b vector\n",
    "    b = T1[1:-1, j].copy()\n",
    "\n",
    "    # Evaluate RHS\n",
    "    b = np.dot(D2_matrix, b)\n",
    "    # b = D2_matrix@b (another option)\n",
    "    \n",
    "    # Append missing values\n",
    "    \n",
    "    b[0]  = b[0]  + r_factor1*(T1[0, j+1] + T1[0, j])\n",
    "    b[-1] = b[-1] + r_factor1*(T1[-1, j+1] + T1[-1, j])\n",
    "    \n",
    "    # Compute the soution vector:\n",
    "    sln_b = np.linalg.solve(D1_matrix, b)\n",
    "    \n",
    "    # Update T matrix\n",
    "    T1[1:-1, j+1] = sln_b"
   ]
  },
  {
   "cell_type": "code",
   "execution_count": null,
   "id": "d6151a0d",
   "metadata": {},
   "outputs": [],
   "source": [
    "# Plotting\n",
    "R = np.linspace(1, 0, m)\n",
    "B = np.linspace(0, 1, m)\n",
    "G = 0\n",
    "\n",
    "plt.figure(figsize=(10,6))\n",
    "\n",
    "\n",
    "for j in range(0, (m+1)//2, 2):\n",
    "    plt.plot(x, T1[:, 2*j] , color = [R[j], G, B[j]], label=\"t=\"+str(2*j)+\"s\")\n",
    "    \n",
    "plt.legend(fontsize=10)\n",
    "plt.show()"
   ]
  },
  {
   "cell_type": "code",
   "execution_count": null,
   "id": "92ea2394",
   "metadata": {},
   "outputs": [],
   "source": [
    "# Plotting\n",
    "R = np.linspace(1, 0, m)\n",
    "B = np.linspace(0, 1, m)\n",
    "G = 0\n",
    "\n",
    "for j in range((m+1)//2):\n",
    "    \n",
    "    plt.figure(figsize=(10,6))\n",
    "    \n",
    "    plt.plot(x, T1[:, 2*j] , color = [R[j], G, B[j]])\n",
    "    \n",
    "    plt.ylim(0,210)\n",
    "    \n",
    "    plt.savefig(\"./Tempco{:03d}.png\".format(j))\n",
    "    \n",
    "    plt.close()\n",
    "\n",
    "#plt.legend([f't={2*t_value.round(3)}' for t_value in t])\n",
    "\n"
   ]
  },
  {
   "cell_type": "code",
   "execution_count": null,
   "id": "19e19faf",
   "metadata": {},
   "outputs": [],
   "source": [
    "images_in = \"./Tempco***.png\"\n",
    "\n",
    "gif_image_out = \"./animation_tempcu.gif\"\n",
    "\n",
    "imgs = (Image.open(f) for f in sorted(glob.glob(images_in)))\n",
    "\n",
    "img = next(imgs)\n",
    "\n",
    "img.save(fp = gif_image_out, format='GIF', append_images=imgs, save_all=True, duration=100, loop=0)"
   ]
  },
  {
   "cell_type": "code",
   "execution_count": null,
   "id": "98e7547d",
   "metadata": {},
   "outputs": [],
   "source": []
  }
 ],
 "metadata": {
  "kernelspec": {
   "display_name": "Python 3 (ipykernel)",
   "language": "python",
   "name": "python3"
  },
  "language_info": {
   "codemirror_mode": {
    "name": "ipython",
    "version": 3
   },
   "file_extension": ".py",
   "mimetype": "text/x-python",
   "name": "python",
   "nbconvert_exporter": "python",
   "pygments_lexer": "ipython3",
   "version": "3.7.13"
  }
 },
 "nbformat": 4,
 "nbformat_minor": 5
}
