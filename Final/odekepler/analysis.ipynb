{
 "cells": [
  {
   "cell_type": "code",
   "execution_count": 4,
   "id": "728beb0d",
   "metadata": {},
   "outputs": [],
   "source": [
    "import numpy as np\n",
    "import matplotlib.pyplot as plt\n",
    "import os\n",
    "import glob\n",
    "from PIL import Image\n"
   ]
  },
  {
   "cell_type": "code",
   "execution_count": 7,
   "id": "2071a08d",
   "metadata": {},
   "outputs": [
    {
     "name": "stdout",
     "output_type": "stream",
     "text": [
      "Function!\r\n",
      "print gif file\r\n"
     ]
    }
   ],
   "source": [
    "!python kepler.py -a -g -T 5 -e 0.01671"
   ]
  },
  {
   "cell_type": "code",
   "execution_count": 6,
   "id": "f2cfce3a",
   "metadata": {},
   "outputs": [
    {
     "name": "stdout",
     "output_type": "stream",
     "text": [
      "Function!\r\n",
      "print gif file\r\n"
     ]
    }
   ],
   "source": [
    "!python kepler.py -a -g -T 5 -e 0.25"
   ]
  },
  {
   "cell_type": "code",
   "execution_count": null,
   "id": "d11169ac",
   "metadata": {},
   "outputs": [],
   "source": []
  }
 ],
 "metadata": {
  "kernelspec": {
   "display_name": "Python 3",
   "language": "python",
   "name": "python3"
  },
  "language_info": {
   "codemirror_mode": {
    "name": "ipython",
    "version": 3
   },
   "file_extension": ".py",
   "mimetype": "text/x-python",
   "name": "python",
   "nbconvert_exporter": "python",
   "pygments_lexer": "ipython3",
   "version": "3.8.8"
  }
 },
 "nbformat": 4,
 "nbformat_minor": 5
}
